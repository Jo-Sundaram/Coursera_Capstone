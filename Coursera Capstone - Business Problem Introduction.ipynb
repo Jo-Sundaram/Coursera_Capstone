{
    "cells": [
        {
            "cell_type": "markdown",
            "metadata": {
                "collapsed": true
            },
            "source": "# Capstone Project - Business Problem Introduction\nOwner: Jothika Sundaram"
        },
        {
            "cell_type": "markdown",
            "metadata": {},
            "source": "### Introduction"
        },
        {
            "cell_type": "markdown",
            "metadata": {},
            "source": "Toronto and New York City are both very diverse and dynamic metropoles with iconic skyscrapers and bustling city populations. Toronto has a population of 2.7 million and a population density of 4334.4 people per square kilometer as of 2016. New York, on the other hand, has a population of 8.399 million and a population density of 10636 people per square kilometer as of 2019.\n\nBoth cities known for their diverse ethnic cultures, wealth and infrastructure, as well as being the hubs for many startup companies. "
        },
        {
            "cell_type": "markdown",
            "metadata": {},
            "source": "### The Problem"
        },
        {
            "cell_type": "markdown",
            "metadata": {},
            "source": " In our scenario, a certain  company wants to open a branch in North America and needs to choose between these two cities. This notebook aims to compare and contrast the two cities and determine a few qualitative and quantitative features that may influence this company to choose one city over the other.  \nFor this notebook, we will ignore complex factors, such as government regulations, and solely examine the location and census data of the two cities."
        },
        {
            "cell_type": "markdown",
            "metadata": {},
            "source": "### Data Description"
        },
        {
            "cell_type": "markdown",
            "metadata": {},
            "source": "To perform this analysis we require the following sets of data:\n*  First and foremost, we can easily obtain the **location data** of the two cities using Foursquare api. With this we can analyse the geographical features, such as popular venues and similar companies within the area.  \n\n\n\n*  We require **census data** for each city, including population distribution, demographics, employment/unemployment rates and popular jobs. This data can be obtained from the city databases.   \n\n\n\n*  If we were to open a branch in one of these cities, we need to find a location where the demographic and environment would result in best profit. "
        },
        {
            "cell_type": "markdown",
            "metadata": {},
            "source": "### The Goal"
        },
        {
            "cell_type": "markdown",
            "metadata": {},
            "source": "Using these datasets, we will be able to examine multiple characteristics of the two cities. \n\n1. First, we must analyze the area surrounding similar companies in **each city** and examine the features that lead to their success.\n   Using methods such as *k*-means clustering, we can find correlations between variables surrounding these locations\n  \n\n2. Second, we must use this information to find an ideal location in **each city** for our company to set up a branch that will allow competitive profit.\n\n\n3. Third, we must compare these two locations together and **determine which city** location would be the best option.\n\n"
        }
    ],
    "metadata": {
        "kernelspec": {
            "display_name": "Python 3.6",
            "language": "python",
            "name": "python3"
        },
        "language_info": {
            "codemirror_mode": {
                "name": "ipython",
                "version": 3
            },
            "file_extension": ".py",
            "mimetype": "text/x-python",
            "name": "python",
            "nbconvert_exporter": "python",
            "pygments_lexer": "ipython3",
            "version": "3.6.9"
        }
    },
    "nbformat": 4,
    "nbformat_minor": 1
}