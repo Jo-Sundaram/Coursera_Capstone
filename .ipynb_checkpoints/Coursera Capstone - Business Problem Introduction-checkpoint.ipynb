{
 "cells": [
  {
   "cell_type": "markdown",
   "metadata": {
    "collapsed": true
   },
   "source": [
    "# Capstone Project - Business Problem Introduction\n",
    "Owner: Jothika Sundaram"
   ]
  },
  {
   "cell_type": "markdown",
   "metadata": {},
   "source": [
    "### Introduction"
   ]
  },
  {
   "cell_type": "markdown",
   "metadata": {},
   "source": [
    "Toronto and New York City are both very diverse and dynamic metropoles with iconic skyscrapers and bustling city populations. Toronto has a population of about 2.7 million and a population density of 4334.4 people per square kilometer as of 2016. New York, on the other hand, has a population of 8.399 million and a population density of 10636 people per square kilometer as of 2019.\n",
    "\n",
    "Both cities known for their diverse ethnic cultures, wealth and infrastructure, as well as being the hubs for many startup companies. "
   ]
  },
  {
   "cell_type": "markdown",
   "metadata": {},
   "source": [
    "### The Problem"
   ]
  },
  {
   "cell_type": "markdown",
   "metadata": {},
   "source": [
    "This project aims to act as a \"startup company guide\" that can provide an analysis on the various business and venues located across these two cities. This information will then give us an idea about **what kinds** of business should open up in these cities, and **in which area** would be the ideal location.  \n",
    " \n",
    " In our scenario, a certain  company wants to open a branch in North America and needs to choose between these two cities. This notebook aims to compare and contrast the two cities and determine a few qualitative and quantitative features that may influence this company to choose one city over the other.  \n",
    "For this notebook, we will ignore complex factors, such as government regulations, and solely examine the location and census data of the two cities."
   ]
  },
  {
   "cell_type": "markdown",
   "metadata": {},
   "source": [
    "### Data Description"
   ]
  },
  {
   "cell_type": "markdown",
   "metadata": {},
   "source": [
    "To perform this analysis we require the following sets of data:\n",
    "*  First and foremost, we can easily obtain the **location data** of the two cities using Foursquare api. With this we can analyse the geographical features, such as popular venues and companies in each borough. This will give us an idea of how businesses are spread out in the city which will aid us in finding a location for our startup company.  \n",
    "\n",
    "\n",
    "\n",
    "*  We require **census data** for each city, including population distribution, demographics, employment/unemployment rates and popular jobs. This data can be obtained from the city databases. This data will help us discover where our target audiences are located, along with characteristics such as age and ethnicity. \n",
    "\n",
    "\n",
    "\n",
    "*  If we were to open a branch in one of these cities, we need to find a location where the demographic and environment would result in best profit. "
   ]
  },
  {
   "cell_type": "markdown",
   "metadata": {},
   "source": [
    "### The Goal"
   ]
  },
  {
   "cell_type": "markdown",
   "metadata": {},
   "source": [
    "Using these datasets, we will be able to examine multiple characteristics of the two cities. \n",
    "\n",
    "1. First, we must analyze the area surrounding similar companies in **each city** and examine the features that lead to their success. Using methods such as *k*-means clustering, we can find correlations between variables surrounding these locations.\n",
    " \n",
    "  \n",
    "2. Second, we must use this information to find an ideal location in **each city** for our company to set up a branch that will allow competitive profit.\n",
    "\n",
    "\n",
    "3. Third, we must compare these two locations together and **determine which city** location would be the best option for a startup company to make their first launch.\n",
    "\n"
   ]
  },
  {
   "cell_type": "markdown",
   "metadata": {},
   "source": [
    "### The Plan"
   ]
  },
  {
   "cell_type": "markdown",
   "metadata": {},
   "source": [
    "1. Using Foursqaure api, obtain data of the most popular venues and businesses scattered across Toronto and New York City\n",
    "   * We need to find data of their neighbourhoods and locations (lat/long)\n",
    "   * Organize a dataframe by boroughs, neighbourhoods and venue categories\n",
    "   \n",
    "   * We can also access tips from users to find more information about these venues\n",
    "\n",
    "2. Use one hot encoding to convert the data into numerical values\n",
    "    * Examine the top 10 venues in each borough of each city\n",
    "   \n",
    "3. Cluster the neighbourhoods using k-means\n",
    "    * Use elbow method to find optimal # of clusters\n",
    "    * Examine clusters and their features \n",
    "   \n",
    "4. After examining clusters, discuss possible types of startups + location options that suit each cluster / borough\n",
    "\n",
    "   \n",
    "    "
   ]
  },
  {
   "cell_type": "code",
   "execution_count": null,
   "metadata": {},
   "outputs": [],
   "source": []
  }
 ],
 "metadata": {
  "kernelspec": {
   "display_name": "Python 3",
   "language": "python",
   "name": "python3"
  },
  "language_info": {
   "codemirror_mode": {
    "name": "ipython",
    "version": 3
   },
   "file_extension": ".py",
   "mimetype": "text/x-python",
   "name": "python",
   "nbconvert_exporter": "python",
   "pygments_lexer": "ipython3",
   "version": "3.7.2"
  }
 },
 "nbformat": 4,
 "nbformat_minor": 1
}
